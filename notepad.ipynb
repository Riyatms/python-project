{
 "cells": [
  {
   "cell_type": "code",
   "execution_count": 49,
   "id": "6853bed1",
   "metadata": {},
   "outputs": [
    {
     "name": "stdout",
     "output_type": "stream",
     "text": [
      "\n"
     ]
    }
   ],
   "source": [
    "from tkinter import*\n",
    "from tkinter import filedialog,Menu,scrolledtext\n",
    " \n",
    "\n",
    "\n",
    "def opened():\n",
    "    file=filedialog.askdirectory()\n",
    "    print(file)\n",
    "\n",
    "def exit():\n",
    "    window.destroy()\n",
    "\n",
    "def save():\n",
    "    file=filedialog.asksaveasfilename()\n",
    "    print(file)\n",
    "\n",
    "\n",
    "def new():\n",
    "    window=Tk()\n",
    "    window.geometry('500x500')\n",
    "\n",
    "\n",
    "    menu=Menu(window)\n",
    "    txt = scrolledtext.ScrolledText(window,width=300,height=200)\n",
    "    txt.grid(column=0,row=0)\n",
    "    \n",
    "    newitem1=Menu(menu,tearoff=0)\n",
    "    newitem1.add_cascade(label='New',command=new)\n",
    "    newitem1.add_command(label='open',command=opened)\n",
    "    newitem1.add_cascade(label='Print')\n",
    "    newitem1.add_cascade(label='Save',command=save)\n",
    "    newitem1.add_cascade(label='Exit',command=exit)\n",
    "\n",
    "\n",
    "    menu.add_cascade(label='File',menu=newitem1)\n",
    "\n",
    "\n",
    "    newitem2=Menu(menu,tearoff=0)\n",
    "    newitem2.add_cascade(label='cut')\n",
    "    newitem2.add_command(label='copy')\n",
    "    newitem2.add_cascade(label='paste')\n",
    "    newitem2.add_cascade(label='Delete')\n",
    "\n",
    "    menu.add_cascade(label='Edit',menu=newitem2)\n",
    "\n",
    "\n",
    "    newitem3=Menu(menu,tearoff=0)\n",
    "    newitem3.add_cascade(label='Zoom')\n",
    "\n",
    "    menu.add_cascade(label='View',menu=newitem3)\n",
    "\n",
    "    \n",
    "    botton=Button(window,text='new',command=new)  \n",
    "\n",
    "    window.config(menu=menu)\n",
    "    window.mainloop()\n",
    "    \n",
    "new()\n"
   ]
  },
  {
   "cell_type": "code",
   "execution_count": null,
   "id": "a260b99e",
   "metadata": {},
   "outputs": [],
   "source": []
  },
  {
   "cell_type": "code",
   "execution_count": null,
   "id": "176e9fd9",
   "metadata": {},
   "outputs": [],
   "source": []
  }
 ],
 "metadata": {
  "kernelspec": {
   "display_name": "Python 3 (ipykernel)",
   "language": "python",
   "name": "python3"
  },
  "language_info": {
   "codemirror_mode": {
    "name": "ipython",
    "version": 3
   },
   "file_extension": ".py",
   "mimetype": "text/x-python",
   "name": "python",
   "nbconvert_exporter": "python",
   "pygments_lexer": "ipython3",
   "version": "3.10.9"
  }
 },
 "nbformat": 4,
 "nbformat_minor": 5
}
