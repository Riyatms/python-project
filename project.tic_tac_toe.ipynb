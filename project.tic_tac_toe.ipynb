{
 "cells": [
  {
   "cell_type": "code",
   "execution_count": 3,
   "id": "90cdfc13",
   "metadata": {},
   "outputs": [
    {
     "name": "stdout",
     "output_type": "stream",
     "text": [
      "enter the name: a\n",
      "enter the name: b\n"
     ]
    }
   ],
   "source": [
    "player1=input(\"enter the name: \")\n",
    "player2=input(\"enter the name: \")"
   ]
  },
  {
   "cell_type": "code",
   "execution_count": 4,
   "id": "53c88f31",
   "metadata": {},
   "outputs": [],
   "source": [
    "import random\n",
    "a=[player1,player2]\n",
    "b=random.choice(a)"
   ]
  },
  {
   "cell_type": "code",
   "execution_count": 5,
   "id": "6e1ee1e3",
   "metadata": {},
   "outputs": [
    {
     "name": "stdout",
     "output_type": "stream",
     "text": [
      "enter the choice of first player: o\n",
      "enter the choice of second player: x\n"
     ]
    }
   ],
   "source": [
    "choice1=input(\"enter the choice of first player: \")\n",
    "choice2=input(\"enter the choice of second player: \")"
   ]
  },
  {
   "cell_type": "code",
   "execution_count": 6,
   "id": "8fce08ba",
   "metadata": {},
   "outputs": [],
   "source": [
    "d={7:\" \",8:\" \",9:\" \",\n",
    "   4:\" \",5:\" \",6:\" \",\n",
    "   1:\" \",2:\" \",3:\" \"}"
   ]
  },
  {
   "cell_type": "code",
   "execution_count": 7,
   "id": "8fe04973",
   "metadata": {},
   "outputs": [],
   "source": [
    "currentplayer='x' or 'o'"
   ]
  },
  {
   "cell_type": "code",
   "execution_count": 8,
   "id": "dab08da5",
   "metadata": {},
   "outputs": [],
   "source": [
    "mark=['x','o']"
   ]
  },
  {
   "cell_type": "code",
   "execution_count": 9,
   "id": "731c1b2b",
   "metadata": {},
   "outputs": [],
   "source": [
    "def display_board(d):\n",
    "    print(f'|{d[7]} |{d[8]} |{d[9]} |' )\n",
    "    print(\"---\",\"---\",\"---\")\n",
    "    print(f'|{d[4]} |{d[5]} |{d[6]} |' )\n",
    "    print(\"---\",\"---\",\"---\")\n",
    "    print(f'|{d[1]} |{d[2]} |{d[3]} |' )\n",
    "    print(\"---\",\"---\",\"---\")"
   ]
  },
  {
   "cell_type": "code",
   "execution_count": 10,
   "id": "d19719fc",
   "metadata": {},
   "outputs": [
    {
     "name": "stdout",
     "output_type": "stream",
     "text": [
      "|  |  |  |\n",
      "--- --- ---\n",
      "|  |  |  |\n",
      "--- --- ---\n",
      "|  |  |  |\n",
      "--- --- ---\n"
     ]
    }
   ],
   "source": [
    "display_board(d)"
   ]
  },
  {
   "cell_type": "code",
   "execution_count": 11,
   "id": "3557b8f9",
   "metadata": {},
   "outputs": [
    {
     "name": "stdout",
     "output_type": "stream",
     "text": [
      "first chance is for the first player\n"
     ]
    }
   ],
   "source": [
    "print('first chance is for the first player')"
   ]
  },
  {
   "cell_type": "code",
   "execution_count": 1,
   "id": "41741cf1",
   "metadata": {},
   "outputs": [
    {
     "name": "stdout",
     "output_type": "stream",
     "text": [
      "winner = diya\n",
      "|o |o |o |\n",
      "--- --- ---\n",
      "|  |x |  |\n",
      "--- --- ---\n",
      "|x |x |o |\n",
      "--- --- ---\n"
     ]
    }
   ],
   "source": [
    "player1=input(\"enter the name of first player: \")\n",
    "player2=input(\"enter the name of second player: \")\n",
    "import random\n",
    "a=[player1,player2]\n",
    "b=random.choice(a)\n",
    "d={7:\" \",8:\" \",9:\" \",\n",
    "   4:\" \",5:\" \",6:\" \",\n",
    "   1:\" \",2:\" \",3:\" \"}\n",
    "currentplayer='x' or 'o'\n",
    "mark=['x','o']\n",
    "def display_board(d):\n",
    "    print(f'|{d[7]} |{d[8]} |{d[9]} |' )\n",
    "    print(\"---\",\"---\",\"---\")\n",
    "    print(f'|{d[4]} |{d[5]} |{d[6]} |' )\n",
    "    print(\"---\",\"---\",\"---\")\n",
    "    print(f'|{d[1]} |{d[2]} |{d[3]} |' )\n",
    "    print(\"---\",\"---\",\"---\")\n",
    "display_board(d)\n",
    "print('first chance is for the first player')\n",
    "\n",
    "from IPython.display import clear_output\n",
    "d={7:\" \",8:\" \",9:\" \",\n",
    "   4:\" \",5:\" \",6:\" \",\n",
    "   1:\" \",2:\" \",3:\" \"}\n",
    "mark = 'o'\n",
    "\n",
    "def win_check(d):\n",
    "    global won\n",
    "    won=False\n",
    "    mark=['x','o']\n",
    "    \n",
    "    if(d[7]=='x' and d[8]=='x' and d[9]=='x') or (d[7]=='o' and d[8]=='o' and d[9]=='o' ):\n",
    "        print ('winner =',b)\n",
    "        won=True\n",
    "    elif(d[7]=='x' and d[4]=='x' and d[1]=='x') or (d[7]=='o' and d[4]=='o' and d[1]=='o'):\n",
    "        print ('winner =',b)\n",
    "        won=True\n",
    "    elif(d[4]=='x' and d[5]=='x' and d[6]=='x') or (d[4]=='o' and d[5]==d[6]=='o'):\n",
    "        print ('winner =',b)\n",
    "        won=True\n",
    "    elif(d[1]=='x' and d[2]=='x' and d[3]=='x') or (d[1]=='o' and d[2]=='o' and d[3]=='o'):\n",
    "        print ('winner =',b)\n",
    "        won=True\n",
    "    elif(d[8]=='x' and d[5]=='x' and d[2]=='x') or (d[8]=='o' and d[5]=='o' and d[2]=='o'):\n",
    "        print ('winner =',b)\n",
    "        won=True\n",
    "    elif(d[9]=='x' and d[6]=='x' and d[3]=='x') or (d[9]=='o' and d[6]=='o' and d[3]=='o'):\n",
    "        print ('winner =',b)\n",
    "        won=True\n",
    "    elif(d[7]=='x' and d[5]=='x' and d[3]=='x') or (d[7]=='o' and d[5]=='o' and d[3]=='o'):\n",
    "        print ('winner =',b)\n",
    "        won=True\n",
    "    elif(d[9]=='x' and d[5]=='x' and d[1]=='x') or (d[9]=='o' and d[5]== 'o' and d[1]=='o'):\n",
    "        print ('winner =',b)\n",
    "        won=True\n",
    "    elif(d[1]!=\" \" and d[2]!=\" \" and d[3]!=\" \" and d[4]!=\" \" and d[5]!=\" \" and d[6]!=\" \" and d[7]!=\" \" and d[8]!=\" \" and d[9]!=\" \"):\n",
    "        print(\"tie\")\n",
    "        \n",
    "        \n",
    "\n",
    "while True:\n",
    "    s=input(\"please enter a number b/w 1-9: \")\n",
    "    if s=='1' or s=='2' or s=='3' or s=='4' or s=='5' or s=='6' or s=='7' or s=='8'or s=='9':\n",
    "        s=int(s)\n",
    "        if mark=='x':\n",
    "            if d[s] != ' ':\n",
    "                continue\n",
    "            d[s]='x'\n",
    "            mark = 'o'\n",
    "        clear_output()\n",
    "        win_check(d)\n",
    "        display_board(d)\n",
    "        if won:\n",
    "            break\n",
    "        elif mark=='o':\n",
    "            if d[s] != ' ':\n",
    "                continue\n",
    "            d[s]='o'\n",
    "            mark = 'x'\n",
    "        clear_output()\n",
    "        win_check(d)\n",
    "        display_board(d)\n",
    "        if won:\n",
    "            break\n",
    "        \n",
    "        \n",
    "    "
   ]
  },
  {
   "cell_type": "markdown",
   "id": "8d126a1d",
   "metadata": {},
   "source": []
  },
  {
   "cell_type": "code",
   "execution_count": null,
   "id": "a89ea654",
   "metadata": {},
   "outputs": [],
   "source": []
  },
  {
   "cell_type": "code",
   "execution_count": null,
   "id": "e067041d",
   "metadata": {},
   "outputs": [],
   "source": []
  },
  {
   "cell_type": "code",
   "execution_count": null,
   "id": "47bd5d1e",
   "metadata": {},
   "outputs": [],
   "source": []
  },
  {
   "cell_type": "code",
   "execution_count": null,
   "id": "e50e867a",
   "metadata": {},
   "outputs": [],
   "source": []
  },
  {
   "cell_type": "code",
   "execution_count": null,
   "id": "8d1fa44c",
   "metadata": {},
   "outputs": [],
   "source": []
  }
 ],
 "metadata": {
  "kernelspec": {
   "display_name": "Python 3 (ipykernel)",
   "language": "python",
   "name": "python3"
  },
  "language_info": {
   "codemirror_mode": {
    "name": "ipython",
    "version": 3
   },
   "file_extension": ".py",
   "mimetype": "text/x-python",
   "name": "python",
   "nbconvert_exporter": "python",
   "pygments_lexer": "ipython3",
   "version": "3.10.9"
  }
 },
 "nbformat": 4,
 "nbformat_minor": 5
}
